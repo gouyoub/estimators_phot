{
 "cells": [
  {
   "cell_type": "code",
   "execution_count": 20,
   "metadata": {},
   "outputs": [],
   "source": [
    "import numpy as np\n",
    "import matplotlib.pyplot as plt\n",
    "from astropy.io import fits\n",
    "import itertools\n",
    "\n",
    "import healpy as hp\n",
    "import pymaster as nmt\n",
    "\n",
    "import cov_utils as cu\n",
    "import cl_utils as clu\n",
    "import anglib as al\n",
    "import loading as load\n"
   ]
  },
  {
   "cell_type": "code",
   "execution_count": 4,
   "metadata": {},
   "outputs": [],
   "source": [
    "def pos_def(cov):\n",
    "    try:\n",
    "        np.linalg.cholesky(cov)\n",
    "        print('is pos def')\n",
    "    except:\n",
    "        print('is not positive difinite')\n",
    "\n",
    "def is_symmetric(cov):\n",
    "    test = (cov == cov.T)\n",
    "    if np.where(test==False)[0].size == 0:\n",
    "        print ('is symmetric')\n",
    "    else :\n",
    "        print('not symmetric')\n",
    "\n",
    "def min_max(cov):\n",
    "    print(cov.min(), cov.max())"
   ]
  },
  {
   "cell_type": "code",
   "execution_count": 31,
   "metadata": {},
   "outputs": [],
   "source": [
    "def compute_cov(Cl, keys, keys_all, workspace, cov_workspace):\n",
    "    nell = Cl['ell'].size\n",
    "    ncl = len(keys)\n",
    "    print(ncl*nell)\n",
    "    covmat = np.zeros((ncl*nell, ncl*nell))\n",
    "\n",
    "    for key in keys_all:\n",
    "        probeA, probeB = key.split('-')\n",
    "        Cl['-'.join([probeB, probeA])] = Cl[key]\n",
    "\n",
    "    for (idx1, key1), (idx2, key2) in itertools.combinations_with_replacement(enumerate(keys), 2):\n",
    "        print(key1, key2, flush=True)\n",
    "        probeA, probeB = key1.split('-')\n",
    "        probeC, probeD = key2.split('-')\n",
    "\n",
    "        covmat[idx1*nell:(idx1+1)*nell, idx2*nell:(idx2+1)*nell] =\\\n",
    "            nmt.gaussian_covariance(cov_workspace, 0, 0, 0, 0,\n",
    "                                    [Cl['-'.join([probeA, probeC])]],\n",
    "                                    [Cl['-'.join([probeB, probeC])]],\n",
    "                                    [Cl['-'.join([probeA, probeD])]],\n",
    "                                    [Cl['-'.join([probeB, probeD])]],\n",
    "                                    workspace, wb=workspace)"
   ]
  },
  {
   "cell_type": "code",
   "execution_count": 13,
   "metadata": {},
   "outputs": [],
   "source": [
    "data_ref = '/home/hidra2/gouyou/euclid/nl_bias_flagship/data/'"
   ]
  },
  {
   "cell_type": "markdown",
   "metadata": {},
   "source": [
    "## Get / Generate Masks"
   ]
  },
  {
   "cell_type": "code",
   "execution_count": 17,
   "metadata": {},
   "outputs": [],
   "source": [
    "nside = 256\n",
    "\n",
    "mask_fullsky = hp.read_map(data_ref+'mask/fullsky_mask_binary_NS256.fits')\n",
    "fmask_fullsky = nmt.NmtField(mask_fullsky, [mask_fullsky])\n",
    "\n",
    "mask_flagship = hp.read_map(data_ref+'mask/flagship2_mask_binary_NS256.fits')\n",
    "fmask_flagship = nmt.NmtField(mask_flagship, [mask_flagship])"
   ]
  },
  {
   "cell_type": "markdown",
   "metadata": {},
   "source": [
    "## Get Cl's"
   ]
  },
  {
   "cell_type": "code",
   "execution_count": 24,
   "metadata": {},
   "outputs": [],
   "source": [
    "ref = '/home/hidra2/gouyou/cosmosis-standard-library/working_dir/output/fs2_nlbias/simulation/fs2_firstchain_linbias_unbinned/'\n",
    "nzbins = 6\n",
    "\n",
    "cls_gc_auto, keys_gc_auto = load.get_cosmosis_Cl(ref, nzbins, 'GC', False)\n",
    "cls_gc, keys_gc = load.get_cosmosis_Cl(ref, nzbins, 'GC', True)\n",
    "cls_wl, keys_wl = load.get_cosmosis_Cl(ref, nzbins, 'WL', True)\n",
    "cls_ggl, keys_ggl = load.get_cosmosis_Cl(ref, nzbins, 'GGL', True)\n",
    "\n",
    "ell_ub = cls_gc_auto['ell']\n",
    "nell_ub = ell_ub.size\n"
   ]
  },
  {
   "cell_type": "markdown",
   "metadata": {},
   "source": [
    "## Initiate binning "
   ]
  },
  {
   "cell_type": "code",
   "execution_count": 12,
   "metadata": {},
   "outputs": [
    {
     "name": "stdout",
     "output_type": "stream",
     "text": [
      "ell_lin = [ 34.5  84.5 134.5 184.5 234.5 284.5 334.5 384.5 434.5 484.5 534.5]\n",
      "ell_log = [ 11.5  17.   26.   39.5  59.   88.  131.  194.5 288.5 428. ]\n"
     ]
    }
   ],
   "source": [
    "lmin = 10\n",
    "bw_lin = 50\n",
    "nbl_log = 11\n",
    "\n",
    "bnmt_lin = al.edges_binning(nside, lmin, bw_lin)\n",
    "bnmt_log = al.edges_log_binning(nside, lmin, nbl_log)\n",
    "print('ell_lin = {}'.format(bnmt_lin.get_effective_ells()))\n",
    "print('ell_log = {}'.format(bnmt_log.get_effective_ells()))"
   ]
  },
  {
   "cell_type": "markdown",
   "metadata": {},
   "source": [
    "## Compute workspace and mixing matrix"
   ]
  },
  {
   "cell_type": "code",
   "execution_count": 16,
   "metadata": {},
   "outputs": [
    {
     "name": "stdout",
     "output_type": "stream",
     "text": [
      "Compute the mixing matrix\n",
      "Mixing matrix has already been calculated and is in the workspace file :  /home/hidra2/gouyou/euclid/nl_bias_flagship/data/nmt_workspace/FS2_2pt_NmtWorkspace_NS256_LIN_LMIN10_BW50.fits . Read it.\n",
      "Done computing the mixing matrix. It took  0.12516379356384277 s.\n",
      "Compute the mixing matrix\n",
      "Mixing matrix has already been calculated and is in the workspace file :  /home/hidra2/gouyou/euclid/nl_bias_flagship/data/nmt_workspace/FS2_2pt_NmtWorkspace_NS256_LOG_LMIN10_NBL11.fits . Read it.\n",
      "Done computing the mixing matrix. It took  0.08110642433166504 s.\n",
      "Compute the mixing matrix\n",
      "Mixing matrix has already been calculated and is in the workspace file :  /home/hidra2/gouyou/euclid/nl_bias_flagship/data/nmt_workspace/fullsky_2pt_NmtWorkspace_NS256_LIN_LMIN10_BW50.fits . Read it.\n",
      "Done computing the mixing matrix. It took  0.08324861526489258 s.\n",
      "Compute the mixing matrix\n",
      "Mixing matrix has already been calculated and is in the workspace file :  /home/hidra2/gouyou/euclid/nl_bias_flagship/data/nmt_workspace/fullsky_2pt_NmtWorkspace_NS256_LOG_LMIN10_NBL11.fits . Read it.\n",
      "Done computing the mixing matrix. It took  0.07709813117980957 s.\n"
     ]
    }
   ],
   "source": [
    "wksp_flagship_linbin = al.coupling_matrix(bnmt_lin, mask_flagship,\n",
    "                    data_ref+'nmt_workspace/FS2_2pt_NmtWorkspace_NS256_LIN_LMIN10_BW50.fits')\n",
    "wksp_flagship_logbin = al.coupling_matrix(bnmt_log, mask_flagship,\n",
    "                    data_ref+'nmt_workspace/FS2_2pt_NmtWorkspace_NS256_LOG_LMIN10_NBL11.fits')\n",
    "\n",
    "wksp_fullsky_linbin = al.coupling_matrix(bnmt_lin, mask_fullsky,\n",
    "                    data_ref+'nmt_workspace/fullsky_2pt_NmtWorkspace_NS256_LIN_LMIN10_BW50.fits')\n",
    "wksp_fullsky_logbin = al.coupling_matrix(bnmt_log, mask_fullsky,\n",
    "                    data_ref+'nmt_workspace/fullsky_2pt_NmtWorkspace_NS256_LOG_LMIN10_NBL11.fits')"
   ]
  },
  {
   "cell_type": "code",
   "execution_count": 19,
   "metadata": {},
   "outputs": [],
   "source": [
    "cov_wksp_flagship_linbin = nmt.NmtCovarianceWorkspace()\n",
    "cov_wksp_flagship_logbin = nmt.NmtCovarianceWorkspace()\n",
    "cov_wksp_fullsky_linbin = nmt.NmtCovarianceWorkspace()\n",
    "cov_wksp_fullsky_logbin = nmt.NmtCovarianceWorkspace()\n",
    "\n",
    "cov_wksp_flagship_linbin.compute_coupling_coefficients(fmask_flagship, fmask_flagship)\n",
    "cov_wksp_fullsky_linbin.compute_coupling_coefficients(fmask_fullsky, fmask_fullsky)\n"
   ]
  },
  {
   "cell_type": "markdown",
   "metadata": {},
   "source": [
    "## Compute covariance"
   ]
  },
  {
   "cell_type": "code",
   "execution_count": 32,
   "metadata": {},
   "outputs": [
    {
     "name": "stdout",
     "output_type": "stream",
     "text": [
      "239616\n"
     ]
    },
    {
     "ename": "MemoryError",
     "evalue": "Unable to allocate 428. GiB for an array with shape (239616, 239616) and data type float64",
     "output_type": "error",
     "traceback": [
      "\u001b[0;31m---------------------------------------------------------------------------\u001b[0m",
      "\u001b[0;31mMemoryError\u001b[0m                               Traceback (most recent call last)",
      "Cell \u001b[0;32mIn[32], line 7\u001b[0m\n\u001b[1;32m      5\u001b[0m cl_ref\u001b[38;5;241m.\u001b[39mupdate(cls_wl)\n\u001b[1;32m      6\u001b[0m cl_ref\u001b[38;5;241m.\u001b[39mupdate(cls_ggl)\n\u001b[0;32m----> 7\u001b[0m cov_reference \u001b[38;5;241m=\u001b[39m compute_cov(cl_ref, keys_all_ref, keys_all_ref, wksp_flagship_logbin, cov_wksp_flagship_logbin)\n",
      "Cell \u001b[0;32mIn[31], line 5\u001b[0m, in \u001b[0;36mcompute_cov\u001b[0;34m(Cl, keys, keys_all, workspace, cov_workspace)\u001b[0m\n\u001b[1;32m      3\u001b[0m ncl \u001b[38;5;241m=\u001b[39m \u001b[38;5;28mlen\u001b[39m(keys) \n\u001b[1;32m      4\u001b[0m \u001b[38;5;28mprint\u001b[39m(ncl\u001b[38;5;241m*\u001b[39mnell)\n\u001b[0;32m----> 5\u001b[0m covmat \u001b[38;5;241m=\u001b[39m np\u001b[38;5;241m.\u001b[39mzeros((ncl\u001b[38;5;241m*\u001b[39mnell, ncl\u001b[38;5;241m*\u001b[39mnell))\n\u001b[1;32m      7\u001b[0m \u001b[38;5;28;01mfor\u001b[39;00m key \u001b[38;5;129;01min\u001b[39;00m keys_all:\n\u001b[1;32m      8\u001b[0m     probeA, probeB \u001b[38;5;241m=\u001b[39m key\u001b[38;5;241m.\u001b[39msplit(\u001b[38;5;124m'\u001b[39m\u001b[38;5;124m-\u001b[39m\u001b[38;5;124m'\u001b[39m)\n",
      "\u001b[0;31mMemoryError\u001b[0m: Unable to allocate 428. GiB for an array with shape (239616, 239616) and data type float64"
     ]
    }
   ],
   "source": [
    "# Reference: FS2, log binning, full 3x2pt\n",
    "keys_all_ref = keys_gc + keys_ggl + keys_wl\n",
    "cl_ref = {}\n",
    "cl_ref.update(cls_gc)\n",
    "cl_ref.update(cls_wl)\n",
    "cl_ref.update(cls_ggl)\n",
    "cov_reference = compute_cov(cl_ref, keys_all_ref, keys_all_ref, wksp_flagship_logbin, cov_wksp_flagship_logbin)"
   ]
  },
  {
   "cell_type": "markdown",
   "metadata": {},
   "source": [
    "### Varying binning"
   ]
  },
  {
   "cell_type": "code",
   "execution_count": null,
   "metadata": {},
   "outputs": [],
   "source": []
  },
  {
   "cell_type": "markdown",
   "metadata": {},
   "source": [
    "### Varying probes"
   ]
  },
  {
   "cell_type": "markdown",
   "metadata": {},
   "source": [
    "### Varying apodization "
   ]
  },
  {
   "cell_type": "markdown",
   "metadata": {},
   "source": [
    "### With white noise Cl's"
   ]
  },
  {
   "cell_type": "code",
   "execution_count": null,
   "metadata": {},
   "outputs": [],
   "source": []
  }
 ],
 "metadata": {
  "kernelspec": {
   "display_name": "cosmosis",
   "language": "python",
   "name": "python3"
  },
  "language_info": {
   "codemirror_mode": {
    "name": "ipython",
    "version": 3
   },
   "file_extension": ".py",
   "mimetype": "text/x-python",
   "name": "python",
   "nbconvert_exporter": "python",
   "pygments_lexer": "ipython3",
   "version": "3.11.8"
  }
 },
 "nbformat": 4,
 "nbformat_minor": 2
}
